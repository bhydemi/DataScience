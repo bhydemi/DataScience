{
 "cells": [
  {
   "cell_type": "markdown",
   "metadata": {},
   "source": [
    "German phone numbers & Email addresses Extractor"
   ]
  },
  {
   "cell_type": "code",
   "execution_count": 2,
   "metadata": {},
   "outputs": [],
   "source": [
    "# Check if running correct version\n",
    "import re\n",
    "import sys\n",
    "if sys.version_info.major != 3:\n",
    "    raise ValueError(\"You must use Python 3.\")\n",
    "if sys.version_info.minor < 4 :\n",
    "    raise ValueError(\"You must use at least Python 3.4\")\n",
    "if sys.version_info.minor < 6:\n",
    "    print(\"Recommended Python Version is 3.6\")"
   ]
  },
  {
   "cell_type": "markdown",
   "metadata": {},
   "source": [
    "## 1.1 Phone Numbers\n",
    "\n",
    "The German country code is always _+49_ or _0049_. If a country code is given, the next number cannot be a _0_. If this number starts with a _1_, it is a mobile phone. In this case, the next three numbers (with the _1_) are the area code. The remaining numbers are the number.\n",
    "If it is not a mobile number, just use the remaining numbers. (Meaning: No area code detection, if not a mobile number)"
   ]
  },
  {
   "cell_type": "code",
   "execution_count": 3,
   "metadata": {},
   "outputs": [],
   "source": [
    "test_phone_numbers = [\n",
    "    \"+49174321324\",\n",
    "    \"0164883423\",\n",
    "    \"0049(0)16483311724\",\n",
    "    \"+49-8332-3010\",\n",
    "    \"00498513994\",\n",
    "    \"0164 5554454\",\n",
    "    \"0851 509\",\n",
    "    \"0851 509-0\",\n",
    "    \"(0851) 3394\"\n",
    "]"
   ]
  },
  {
   "cell_type": "code",
   "execution_count": 4,
   "metadata": {},
   "outputs": [],
   "source": [
    "gold_phone_numbers = [\n",
    "    \"+49 174 321324\",\n",
    "    \"+49 164 883423\",\n",
    "    \"+49 164 83311724\",\n",
    "    \"+49 83323010\",\n",
    "    \"+49 8513994\",\n",
    "    \"+49 164 5554454\",\n",
    "    \"+49 851509\",\n",
    "    \"+49 8515090\",\n",
    "    \"+49 8513394\"\n",
    "]"
   ]
  },
  {
   "cell_type": "code",
   "execution_count": 5,
   "metadata": {},
   "outputs": [],
   "source": [
    "def validate_phone(parsed_numbers):\n",
    "    for parsed, test, gold in zip(parsed_numbers, test_phone_numbers, gold_phone_numbers):\n",
    "        if parsed != gold:\n",
    "            print(\"WRONG   → \\n\\t Input : {}\\n\\t Gold  : {}\\n\\t Parsed: {}\".format(test, gold, parsed))\n",
    "        else:\n",
    "            print(\"CORRECT → \\n\\t Input : {}\\n\\t Gold  : {}\\n\\t Parsed: {}\".format(test, gold, parsed))"
   ]
  },
  {
   "cell_type": "markdown",
   "metadata": {},
   "source": [
    "### add your code here\n",
    "\n",
    "You should produce a list _parsed_ of the parsed phone numbers.\n",
    "When calling _validate_phone(parsed)_ it should only print CORRECT."
   ]
  },
  {
   "cell_type": "code",
   "execution_count": 6,
   "metadata": {},
   "outputs": [
    {
     "name": "stdout",
     "output_type": "stream",
     "text": [
      "CORRECT → \n",
      "\t Input : +49174321324\n",
      "\t Gold  : +49 174 321324\n",
      "\t Parsed: +49 174 321324\n",
      "CORRECT → \n",
      "\t Input : 0164883423\n",
      "\t Gold  : +49 164 883423\n",
      "\t Parsed: +49 164 883423\n",
      "CORRECT → \n",
      "\t Input : 0049(0)16483311724\n",
      "\t Gold  : +49 164 83311724\n",
      "\t Parsed: +49 164 83311724\n",
      "CORRECT → \n",
      "\t Input : +49-8332-3010\n",
      "\t Gold  : +49 83323010\n",
      "\t Parsed: +49 83323010\n",
      "CORRECT → \n",
      "\t Input : 00498513994\n",
      "\t Gold  : +49 8513994\n",
      "\t Parsed: +49 8513994\n",
      "CORRECT → \n",
      "\t Input : 0164 5554454\n",
      "\t Gold  : +49 164 5554454\n",
      "\t Parsed: +49 164 5554454\n",
      "CORRECT → \n",
      "\t Input : 0851 509\n",
      "\t Gold  : +49 851509\n",
      "\t Parsed: +49 851509\n",
      "CORRECT → \n",
      "\t Input : 0851 509-0\n",
      "\t Gold  : +49 8515090\n",
      "\t Parsed: +49 8515090\n",
      "CORRECT → \n",
      "\t Input : (0851) 3394\n",
      "\t Gold  : +49 8513394\n",
      "\t Parsed: +49 8513394\n"
     ]
    }
   ],
   "source": [
    "import re\n",
    "\n",
    "mobile = r'^\\+491[0-9]{1,20}'\n",
    "#MobileNumber Regex\n",
    "phone = r'^\\+49[2-9][0-9]{1,20}'\n",
    "\n",
    "#Landline Regex\n",
    "\n",
    "def checkthirdposition(number):\n",
    "    if number[3] == '0':\n",
    "        number = number.replace('0',' ',1)\n",
    "        return number\n",
    "    else:return number\n",
    "    \n",
    "\n",
    "def parse(number):\n",
    "    number = checkthirdposition(number)\n",
    "    if re.match(mobile, number):\n",
    "        parsed_number = number[:3] + ' ' + number[3:6] + ' ' + number[6:]\n",
    "    else:\n",
    "        re.match(phone, number)\n",
    "        parsed_number = number[:3] + ' ' + number[3:]\n",
    "    return parsed_number    \n",
    "\n",
    "\n",
    "parsed = []\n",
    "\n",
    "for number in test_phone_numbers:\n",
    "    number = number.replace('(0)', \"\").replace(')','').replace('(','').replace('-','').replace(' ','')\n",
    "    if number.startswith('0') and number[:4] !='0049':\n",
    "        parsed.append(parse(number.replace(number[0],'+49',1)))\n",
    "    elif number[:4] == '0049':\n",
    "        parsed.append(parse(number.replace(number[:4],'+49',1)))\n",
    "    else: parsed.append(parse(number))\n",
    "        \n",
    "        \n",
    "validate_phone(parsed)\n"
   ]
  },
  {
   "cell_type": "markdown",
   "metadata": {},
   "source": [
    "## 1.2 Email Addresses"
   ]
  },
  {
   "cell_type": "code",
   "execution_count": 9,
   "metadata": {},
   "outputs": [],
   "source": [
    "test_emails = [\n",
    "    \"peter.mueller@uni-passau.de\",\n",
    "    \"peter dot mueller at uni-passau dot de\",\n",
    "    \"peter.mueller(at)uni-passau.de\",\n",
    "    \"peter.mueller (at) uni-passau.de\",\n",
    "    \"nefullword@gw.uni-passau.de\",\n",
    "    \"peter (dot) mueller (at) uni-passau (dot) de\",\n",
    "    \"other.host@gmail.com\",\n",
    "    \"special-chars (at) live.com\"\n",
    "]"
   ]
  },
  {
   "cell_type": "code",
   "execution_count": 10,
   "metadata": {},
   "outputs": [],
   "source": [
    "gold_emails = [\n",
    "    \"peter.mueller@uni-passau.de\",\n",
    "    \"peter.mueller@uni-passau.de\",\n",
    "    \"peter.mueller@uni-passau.de\",\n",
    "    \"peter.mueller@uni-passau.de\",\n",
    "    \"nefullword@gw.uni-passau.de\",\n",
    "    \"peter.mueller@uni-passau.de\",\n",
    "    \"other.host@gmail.com\",\n",
    "    \"special-chars@live.com\"\n",
    "]"
   ]
  },
  {
   "cell_type": "code",
   "execution_count": 11,
   "metadata": {},
   "outputs": [],
   "source": [
    "def validate_email(parsed_emails):\n",
    "    for parsed, test, gold in zip(parsed_emails, test_emails, gold_emails):\n",
    "        if parsed != gold:\n",
    "            print(\"WRONG   → \\n\\t Input : {}\\n\\t Gold  : {}\\n\\t Parsed: {}\".format(test, gold, parsed))\n",
    "        else:\n",
    "            print(\"CORRECT → \\n\\t Input : {}\\n\\t Gold  : {}\\n\\t Parsed: {}\".format(test, gold, parsed))"
   ]
  },
  {
   "cell_type": "markdown",
   "metadata": {},
   "source": [
    "### add your code here\n",
    "\n",
    "You should produce a list _parsed_ of the parsed phone numbers.\n",
    "When calling _validate_phone(parsed)_ it should only print CORRECT."
   ]
  },
  {
   "cell_type": "code",
   "execution_count": 12,
   "metadata": {},
   "outputs": [
    {
     "name": "stdout",
     "output_type": "stream",
     "text": [
      "CORRECT → \n",
      "\t Input : peter.mueller@uni-passau.de\n",
      "\t Gold  : peter.mueller@uni-passau.de\n",
      "\t Parsed: peter.mueller@uni-passau.de\n",
      "CORRECT → \n",
      "\t Input : peter dot mueller at uni-passau dot de\n",
      "\t Gold  : peter.mueller@uni-passau.de\n",
      "\t Parsed: peter.mueller@uni-passau.de\n",
      "CORRECT → \n",
      "\t Input : peter.mueller(at)uni-passau.de\n",
      "\t Gold  : peter.mueller@uni-passau.de\n",
      "\t Parsed: peter.mueller@uni-passau.de\n",
      "CORRECT → \n",
      "\t Input : peter.mueller (at) uni-passau.de\n",
      "\t Gold  : peter.mueller@uni-passau.de\n",
      "\t Parsed: peter.mueller@uni-passau.de\n",
      "CORRECT → \n",
      "\t Input : nefullword@gw.uni-passau.de\n",
      "\t Gold  : nefullword@gw.uni-passau.de\n",
      "\t Parsed: nefullword@gw.uni-passau.de\n",
      "CORRECT → \n",
      "\t Input : peter (dot) mueller (at) uni-passau (dot) de\n",
      "\t Gold  : peter.mueller@uni-passau.de\n",
      "\t Parsed: peter.mueller@uni-passau.de\n",
      "CORRECT → \n",
      "\t Input : other.host@gmail.com\n",
      "\t Gold  : other.host@gmail.com\n",
      "\t Parsed: other.host@gmail.com\n",
      "CORRECT → \n",
      "\t Input : special-chars (at) live.com\n",
      "\t Gold  : special-chars@live.com\n",
      "\t Parsed: special-chars@live.com\n"
     ]
    }
   ],
   "source": [
    "\n",
    "emailRegex = r'(^[a-zA-Z0-9_.+-]+@[a-zA-Z0-9-]+\\.[a-zA-Z0-9-.]{1,-1})'\n",
    "#e-mailRegex\n",
    "\n",
    "\n",
    "\n",
    "\n",
    "\n",
    "parsed = []\n",
    "for email in test_emails:\n",
    "    email = email.replace('at','@').replace('dot','.').replace(' ','').replace(')','').replace('(','')\n",
    "    filter(emailRegex, email)\n",
    "    parsed.append(email)\n",
    "\n",
    "validate_email(parsed)\n",
    "\n"
   ]
  },
  {
   "cell_type": "code",
   "execution_count": null,
   "metadata": {},
   "outputs": [],
   "source": []
  },
  {
   "cell_type": "code",
   "execution_count": null,
   "metadata": {},
   "outputs": [],
   "source": []
  },
  {
   "cell_type": "code",
   "execution_count": null,
   "metadata": {},
   "outputs": [],
   "source": []
  }
 ],
 "metadata": {
  "kernelspec": {
   "display_name": "Python 3",
   "language": "python",
   "name": "python3"
  },
  "language_info": {
   "codemirror_mode": {
    "name": "ipython",
    "version": 3
   },
   "file_extension": ".py",
   "mimetype": "text/x-python",
   "name": "python",
   "nbconvert_exporter": "python",
   "pygments_lexer": "ipython3",
   "version": "3.6.4"
  }
 },
 "nbformat": 4,
 "nbformat_minor": 2
}
